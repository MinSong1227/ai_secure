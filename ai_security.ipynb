{
  "nbformat": 4,
  "nbformat_minor": 0,
  "metadata": {
    "accelerator": "GPU",
    "colab": {
      "name": "튜토리얼.ipynb",
      "provenance": [],
      "collapsed_sections": [
        "i7Ml1Kb8m29z",
        "TVFs8_zRm2-N",
        "Mln0AaaWm2_e"
      ],
      "include_colab_link": true
    },
    "kernelspec": {
      "display_name": "Python 3",
      "language": "python",
      "name": "python3"
    },
    "language_info": {
      "codemirror_mode": {
        "name": "ipython",
        "version": 3
      },
      "file_extension": ".py",
      "mimetype": "text/x-python",
      "name": "python",
      "nbconvert_exporter": "python",
      "pygments_lexer": "ipython3",
      "version": "3.7.4"
    },
    "pycharm": {
      "stem_cell": {
        "cell_type": "raw",
        "metadata": {
          "collapsed": false
        },
        "source": []
      }
    }
  },
  "cells": [
    {
      "cell_type": "markdown",
      "metadata": {
        "id": "view-in-github",
        "colab_type": "text"
      },
      "source": [
        "<a href=\"https://colab.research.google.com/github/MinSong1227/aisecurity01/blob/main/ai_security.ipynb\" target=\"_parent\"><img src=\"https://colab.research.google.com/assets/colab-badge.svg\" alt=\"Open In Colab\"/></a>"
      ]
    },
    {
      "cell_type": "code",
      "metadata": {
        "colab": {
          "base_uri": "https://localhost:8080/"
        },
        "id": "2x4vVDVDs_ZA",
        "outputId": "02d4677a-701d-4fa0-d2cd-6085f58e1d1c"
      },
      "source": [
        "from google.colab import drive\n",
        "drive.mount('/content/drive')"
      ],
      "execution_count": null,
      "outputs": [
        {
          "output_type": "stream",
          "text": [
            "Mounted at /content/drive\n"
          ],
          "name": "stdout"
        }
      ]
    },
    {
      "cell_type": "code",
      "metadata": {
        "id": "55tTXGJDvWo6"
      },
      "source": [
        "!unzip /content/drive/My\\ Drive/데이터.zip"
      ],
      "execution_count": null,
      "outputs": []
    },
    {
      "cell_type": "code",
      "metadata": {
        "id": "Wwqqnh3Om28q"
      },
      "source": [
        "import os\n",
        "import glob\n",
        "import json\n",
        "import pprint\n",
        "import pandas\n",
        "import csv\n",
        "\n",
        "import numpy as np\n",
        "\n",
        "from lightgbm import LGBMClassifier\n",
        "\n",
        "from sklearn.svm import SVC\n",
        "from sklearn.tree import DecisionTreeClassifier\n",
        "from sklearn.ensemble import RandomForestClassifier\n",
        "from sklearn.ensemble import AdaBoostClassifier\n",
        "from sklearn.neighbors import KNeighborsClassifier\n",
        "from sklearn.linear_model import LogisticRegression\n",
        "from sklearn.neural_network import MLPClassifier\n",
        "\n",
        "from sklearn.metrics import accuracy_score\n",
        "from sklearn.pipeline import Pipeline\n",
        "from sklearn.feature_selection import RFE"
      ],
      "execution_count": 129,
      "outputs": []
    },
    {
      "cell_type": "code",
      "metadata": {
        "id": "bZIkg4n7m29e"
      },
      "source": [
        "SEED = 41\n",
        "\n",
        "def read_label_csv(path):\n",
        "    label_table = dict()\n",
        "    with open(path, \"r\", encoding= \"cp949\") as f:\n",
        "        for line in f.readlines()[1:]:\n",
        "            fname, label = line.strip().split(\",\")\n",
        "            label_table[fname] = int(label)\n",
        "    return label_table\n",
        "\n",
        "\n",
        "def load_model(**kwargs):\n",
        "    if kwargs[\"model\"] == \"rf\":\n",
        "        return RandomForestClassifier(random_state=kwargs[\"random_state\"], n_jobs=4)\n",
        "    elif kwargs[\"model\"] == \"dt\":\n",
        "        return DecisionTreeClassifier(random_state=kwargs[\"random_state\"])\n",
        "    elif kwargs[\"model\"] == \"lgb\":\n",
        "        return LGBMClassifier(random_state=kwargs[\"random_state\"])\n",
        "    elif kwargs[\"model\"] == \"svm\":\n",
        "        return SVC(random_state=kwargs[\"random_state\"])\n",
        "    elif kwargs[\"model\"] == \"lr\":\n",
        "        return LogisticRegression(random_state=kwargs[\"random_state\"], n_jobs=-1)\n",
        "    elif kwargs[\"model\"] == \"knn\":\n",
        "        return KNeighborsClassifier(n_jobs=-1)\n",
        "    elif kwargs[\"model\"] == \"adaboost\":\n",
        "        return AdaBoostClassifier(random_state=kwargs[\"random_state\"])\n",
        "    elif kwargs[\"model\"] == \"mlp\":\n",
        "        return MLPClassifier(random_state=kwargs[\"random_state\"])\n",
        "    else:\n",
        "        print(\"Unsupported Algorithm\")\n",
        "        return None\n",
        "    \n",
        "\n",
        "def train(X_train, y_train, model):\n",
        "    '''\n",
        "        머신러닝 모델을 선택하여 학습을 진행하는 함수\n",
        "\t\n",
        "        :param X_train: 학습할 2차원 리스트 특징벡터\n",
        "        :param y_train: 학습할 1차원 리스트 레이블 벡터\n",
        "        :param model: 문자열, 선택할 머신러닝 알고리즘\n",
        "        :return: 학습된 머신러닝 모델 객체\n",
        "    '''\n",
        "    clf = load_model(model=model, random_state=SEED)\n",
        "    clf.fit(X_train, y_train)\n",
        "    return clf\n",
        "\n",
        "\n",
        "def evaluate(X_test, y_test, model):\n",
        "    '''\n",
        "        학습된 머신러닝 모델로 검증 데이터를 검증하는 함수\n",
        "\t\n",
        "        :param X_test: 검증할 2차원 리스트 특징 벡터\n",
        "        :param y_test: 검증할 1차원 리스트 레이블 벡터\n",
        "        :param model: 학습된 머신러닝 모델 객체\n",
        "    '''\n",
        "    predict = model.predict(X_test)\n",
        "    print(\"정확도\", model.score(X_test, y_test))\n"
      ],
      "execution_count": 130,
      "outputs": []
    },
    {
      "cell_type": "markdown",
      "metadata": {
        "id": "9u3F408SDKYd"
      },
      "source": [
        ""
      ]
    },
    {
      "cell_type": "markdown",
      "metadata": {
        "id": "i7Ml1Kb8m29z"
      },
      "source": [
        "## 레이블 테이블 로드"
      ]
    },
    {
      "cell_type": "code",
      "metadata": {
        "id": "mUwhF5Kpm293"
      },
      "source": [
        "label_table = read_label_csv(\"학습데이터_정답.csv\")\n",
        "label_table1 = read_label_csv(\"검증데이터_정답.csv\")"
      ],
      "execution_count": 131,
      "outputs": []
    },
    {
      "cell_type": "markdown",
      "metadata": {
        "id": "TVFs8_zRm2-N"
      },
      "source": [
        "## 특징 벡터 생성 예시\n",
        "- PEMINER 정보는 모두 수치형 데이터이므로 특별히 가공을 하지 않고 사용 가능\n",
        "- EMBER, PESTUDIO 정보는 가공해서 사용해야 할 특징들이 있음 (e.g. imports, exports 등의 문자열 정보를 가지는 데이터)\n",
        "- 수치형 데이터가 아닌 데이터(범주형 데이터)를 어떻게 가공할 지가 관건 >> 인코딩 (e.g. 원핫인코딩, 레이블인코딩 등)"
      ]
    },
    {
      "cell_type": "code",
      "metadata": {
        "id": "DgWU_lEAm2_D"
      },
      "source": [
        "class PeminerParser:\n",
        "    def __init__(self, path):\n",
        "        self.report = read_json(path)\n",
        "        self.vector = []\n",
        "\n",
        "\n",
        "    # def get_general_file_info(self):\n",
        "    #     vector = [ \"CMC.DLL\", \"Section.text.VirtualSize\"]\n",
        "    #     return vector\n",
        "    \n",
        "\n",
        "    def process_report(self):\n",
        "        \n",
        "        #     전체 데이터 사용  \n",
        "\n",
        "\n",
        "        ##1\n",
        "        # key_list = []\n",
        "\n",
        "        # for key in self.report.keys():\n",
        "        #   key_list.append(key)\n",
        "        ##1\n",
        "\n",
        "        # vector = random.sample(key_list, 30)\n",
        "        ##1\n",
        "        \n",
        "              \n",
        "        \n",
        "        #vector = [ \"CMC.DLL\", \"Section.text.VirtualSize\"]\n",
        "        # temp= []\n",
        "        # for key in self.report.keys():\n",
        "        #   if key in vector:\n",
        "        #     temp.append((key,self.report[key]))\n",
        "        \n",
        "        \n",
        "\n",
        "        self.vector = [value for _, value in sorted(self.report.items(), key=lambda x: x[0])]\n",
        "        # self.vector = [value for _, value in temp]\n",
        "\n",
        "        #print(self.report.items())\n",
        "\n",
        "        #self.vector = [i for i in vectors]\n",
        "        #print(sorted(self.report.items()))\n",
        "        #print(self.vector)\n",
        "        #print(len(self.report.keys()))\n",
        "\n",
        "        return self.vector\n",
        "        \n",
        "\n",
        "class EmberParser:\n",
        "    '''\n",
        "        예제에서 사용하지 않은 특징도 사용하여 벡터화 할 것을 권장\n",
        "    '''\n",
        "    def __init__(self, path):\n",
        "        self.report = read_json(path)\n",
        "        self.vector = []\n",
        "    \n",
        "    def get_histogram_info(self):\n",
        "        histogram = np.array(self.report[\"histogram\"])\n",
        "        total = histogram.sum()\n",
        "        vector = histogram / total\n",
        "        return vector.tolist()\n",
        "\n",
        "\n",
        "    def get_section_info(self):\n",
        "      entropys = []\n",
        "      strings = self.report[\"section\"]\n",
        "      temp = 0\n",
        "      #temp = self.report[\"section\"][\"sections\"][\n",
        "      for i in range(len(strings[\"sections\"])):\n",
        "        temp = max(temp,strings[\"sections\"][i][\"entropy\"])\n",
        "      \n",
        "      # if len(strings[\"sections\"]):\n",
        "      #        entropys.append(temp / len(strings[\"sections\"]))\n",
        "      # else:\n",
        "      #   entropys.append(0)\n",
        "      if(temp >= 6.0):\n",
        "        entropys.append(temp)\n",
        "      else:\n",
        "        entropys.append(0)\n",
        "      # print(entropys)\n",
        "      return entropys\n",
        "\n",
        "      \n",
        "\n",
        "    def get_string_info(self):\n",
        "        strings = self.report[\"strings\"]\n",
        "        #strings = self.report[\"section\"]\n",
        "\n",
        "        hist_divisor = float(strings['printables']) if strings['printables'] > 0 else 1.0\n",
        "        vector = [\n",
        "            strings['numstrings'], \n",
        "            strings['avlength'], \n",
        "            strings['printables'],\n",
        "            strings['entropy'], \n",
        "            strings['paths'], \n",
        "            strings['urls'],\n",
        "            strings['registry'], \n",
        "            strings['MZ']\n",
        "        ]\n",
        "        vector += (np.asarray(strings['printabledist']) / hist_divisor).tolist()\n",
        "        return vector\n",
        "    \n",
        "    def get_general_file_info(self):\n",
        "        general = self.report[\"general\"]\n",
        "\n",
        "        vector = [\n",
        "            general['size'], general['vsize'], general['has_debug'], general['exports'], general['imports'],\n",
        "            general['has_relocations'], general['has_resources'], general['has_signature'], general['has_tls'],\n",
        "            general['symbols']\n",
        "        ]\n",
        "        return vector\n",
        "\n",
        "    def import_info(self):\n",
        "      imports = self.report[\"imports\"]\n",
        "      count = 0\n",
        "      for i in imports:\n",
        "        count = count + 1\n",
        "      return [count]\n",
        "\n",
        "\n",
        "    def get_byte_entropy(self):\n",
        "      entro = self.report[\"byteentropy\"]\n",
        "      count = 0        \n",
        "      for i in entro:\n",
        "        if i > 100.0:\n",
        "          count += 1\n",
        "        \n",
        "      return [count]\n",
        "\n",
        "              \n",
        "    def process_report(self):\n",
        "        vector = []\n",
        "        vector += self.get_general_file_info()\n",
        "        vector += self.get_histogram_info()\n",
        "        vector += self.get_string_info()\n",
        "        vector += self.import_info()\n",
        "        # vector += self.get_section_info()\n",
        "        vector += self.get_byte_entropy()\n",
        "        '''\n",
        "            특징 추가\n",
        "        '''\n",
        "        #print(vector)\n",
        "        return vector\n",
        "    \n",
        "# class PestudioParser:\n",
        "#     '''\n",
        "#         사용할 특징을 선택하여 벡터화 할 것을 권장\n",
        "#     '''\n",
        "    \n",
        "#     def __init__(self, path):\n",
        "#         self.report = read_json(path)\n",
        "#         self.vector = []\n",
        "    \n",
        "#     def process_report(self):\n",
        "#         pass"
      ],
      "execution_count": 132,
      "outputs": []
    },
    {
      "cell_type": "markdown",
      "metadata": {
        "id": "ZMdHYWl9m2_P"
      },
      "source": [
        "## 학습데이터 구성\n",
        "- 특징 벡터 구성은 2차원이 되어야함 e.g.  [vector_1, vector_2, ..., vector_n]\n",
        "\n",
        "- 각 벡터는 1차원 리스트, 벡터 크기는 모두 같아야함"
      ]
    },
    {
      "cell_type": "code",
      "metadata": {
        "id": "b9zj-S7dm2_S",
        "colab": {
          "base_uri": "https://localhost:8080/"
        },
        "outputId": "3c5056ae-ca5a-4401-f782-c4449db15789"
      },
      "source": [
        "# 데이터의 특징 벡터 모음(2차원 리스트) : X\n",
        "from collections import defaultdict\n",
        "# 데이터의 레이블 모음(1차원 리스트) : y\n",
        "X, y = [], []\n",
        "x_validation, y_validation = [],[]\n",
        "file_list = os.listdir(\"EMBER/학습데이터\")\n",
        "file_list2 = os.listdir(\"EMBER/검증데이터\")\n",
        "\n",
        "#file_list = file_list + file_list2+ file_list3\n",
        "k=[]\n",
        "m=[]\n",
        "for a in file_list:\n",
        "\tk.append(a.replace('.json',''))\n",
        "\n",
        "for b in file_list2:\n",
        "  m.append(b.replace('.json',''))\n",
        "\n",
        "\n",
        "for fname in k:\n",
        "     feature_vector = []\n",
        "     \n",
        "     label = label_table[str(fname)]\n",
        "     for data in [\"PEMINER\", \"EMBER\"]:\n",
        "         path = f\"{data}/학습데이터/{fname}.json\"\n",
        "         if data == \"PEMINER\":\n",
        "             feature_vector += PeminerParser(path).process_report()\n",
        "         else:\n",
        "             feature_vector += EmberParser(path).process_report()\n",
        "\n",
        "     X.append(feature_vector)\n",
        "     y.append(label)\n",
        "\n",
        "for fname in m:\n",
        "     feature_vector1=[]\n",
        "     label = label_table1[str(fname)]\n",
        "\n",
        "     for data in [\"PEMINER\", \"EMBER\"]:\n",
        "       path = f\"{data}/검증데이터/{fname}.json\"\n",
        "       if data == \"PEMINER\":\n",
        "         feature_vector1 += PeminerParser(path).process_report()\n",
        "       else:\n",
        "         feature_vector1 += EmberParser(path).process_report()\n",
        "\n",
        "     x_validation.append(feature_vector1)\n",
        "     y_validation.append(label)\n",
        "\n",
        "print(np.asarray(X).shape, np.asarray(y).shape)\n",
        "np.asarray(x_validation).shape, np.asarray(y_validation).shape\n"
      ],
      "execution_count": 133,
      "outputs": [
        {
          "output_type": "stream",
          "text": [
            "(20000, 560) (20000,)\n"
          ],
          "name": "stdout"
        },
        {
          "output_type": "execute_result",
          "data": {
            "text/plain": [
              "((10000, 560), (10000,))"
            ]
          },
          "metadata": {
            "tags": []
          },
          "execution_count": 133
        }
      ]
    },
    {
      "cell_type": "markdown",
      "metadata": {
        "id": "Mln0AaaWm2_e"
      },
      "source": [
        "## 학습 및 검증"
      ]
    },
    {
      "cell_type": "code",
      "metadata": {
        "id": "UyzIJr7hm2_f",
        "colab": {
          "base_uri": "https://localhost:8080/"
        },
        "outputId": "1338593c-69fd-47da-96ef-8e75d255f811"
      },
      "source": [
        "\n",
        "# 학습\n",
        "models = []\n",
        "for model in [\"rf\",\"lgb\"]:\n",
        "    clf = train(X, y, model)\n",
        "    models.append(clf)\n",
        "\n",
        "# 검증\n",
        "# 실제 검증 시에는 제공한 검증데이터를 검증에 사용해야 함\n",
        "for model in models:\n",
        "    evaluate(x_validation, y_validation, model)\n",
        "\n",
        "# 정확도 0.9424\n",
        "# 정확도 0.9517\n",
        "\n",
        "# 최대 entropy 제거\n",
        "# 정확도 0.9429\n",
        "# 정확도 0.9506"
      ],
      "execution_count": 134,
      "outputs": [
        {
          "output_type": "stream",
          "text": [
            "정확도 0.9427\n",
            "정확도 0.9522\n"
          ],
          "name": "stdout"
        }
      ]
    },
    {
      "cell_type": "markdown",
      "metadata": {
        "id": "j7tWjSqFm2_n"
      },
      "source": [
        "## 앙상블 예제"
      ]
    },
    {
      "cell_type": "code",
      "metadata": {
        "id": "grpD-1_em2_p"
      },
      "source": [
        "def ensemble_result(X, y, models):\n",
        "    '''\n",
        "        학습된 모델들의 결과를 앙상블하는 함수\n",
        "\t\n",
        "        :param X: 검증할 2차원 리스트 특징 벡터\n",
        "        :param y: 검증할 1차원 리스트 레이블 벡터\n",
        "        :param models: 1개 이상의 학습된 머신러닝 모델 객체를 가지는 1차원 리스트\n",
        "    '''\n",
        " \n",
        "    # Soft Voting\n",
        "    # https://devkor.tistory.com/entry/Soft-Voting-%EA%B3%BC-Hard-Voting\n",
        "    predicts = []\n",
        "    for model in models:\n",
        "        prob = [result for _, result in model.predict_proba(X)]\n",
        "        predicts.append(prob)\n",
        "    \n",
        "    predict = np.mean(predicts, axis=0)\n",
        "    predict = [1 if x >= 0.5 else 0 for x in predict]\n",
        "\n",
        "        \n",
        "    print(\"정확도\", accuracy_score(y, predict))"
      ],
      "execution_count": 135,
      "outputs": []
    },
    {
      "cell_type": "code",
      "metadata": {
        "id": "RTYlJAcBm2_v",
        "colab": {
          "base_uri": "https://localhost:8080/"
        },
        "outputId": "19be6314-cdc2-4c27-9b74-0ca53f64d41c"
      },
      "source": [
        "ensemble_result(x_validation, y_validation, models)\n",
        "#정확도 0.9525\n",
        "#정확도 0.9527 엔트로피 제거\n",
        "# 정확도 0.9531 엔트로피 바이트 10.0 이상"
      ],
      "execution_count": 136,
      "outputs": [
        {
          "output_type": "stream",
          "text": [
            "정확도 0.9532\n"
          ],
          "name": "stdout"
        }
      ]
    },
    {
      "cell_type": "markdown",
      "metadata": {
        "id": "Rac2BuSS6r-v"
      },
      "source": [
        "# 테스트 데이터 예측 결과 파일 출력"
      ]
    },
    {
      "cell_type": "code",
      "metadata": {
        "id": "_Gsy9y9I6kdf"
      },
      "source": [
        "def ensemble_result_predict_csv():\n",
        "    fin=[]\n",
        "    file_list2 = os.listdir(\"EMBER/테스트데이터\")\n",
        "    o=[]\n",
        "    for a in file_list2:\n",
        "      o.append(a.replace('.json',''))\n",
        "\n",
        "    for fname in o:\n",
        "     feature_vector2=[]\n",
        "\n",
        "     for data in [\"PEMINER\", \"EMBER\"]:\n",
        "       path = f\"{data}/테스트데이터/{fname}.json\"\n",
        "       if data == \"PEMINER\":\n",
        "         feature_vector2 += PeminerParser(path).process_report()\n",
        "       else:\n",
        "         feature_vector2 += EmberParser(path).process_report()\n",
        "\n",
        "     fin.append(feature_vector2)\n",
        "\n",
        "    predicts = []\n",
        "    for model in models:\n",
        "        prob = [result for _, result in model.predict_proba(fin)]\n",
        "        predicts.append(prob)\n",
        "    \n",
        "    predict = np.mean(predicts, axis=0)\n",
        "    predict = [1 if x >= 0.5 else 0 for x in predict]\n",
        "\n",
        "\n",
        "    f = open('predict.csv', 'w', encoding='cp949')\n",
        "    wr = csv.writer(f)\n",
        "    wr.writerow([\"file\",\"predict\"])\n",
        "    for i in range(len(o)):\n",
        "      wr.writerow([o[i],predict[i]])\n",
        "    f.close()"
      ],
      "execution_count": 137,
      "outputs": []
    },
    {
      "cell_type": "code",
      "metadata": {
        "id": "21tkvDOcFPgg"
      },
      "source": [
        "ensemble_result_predict_csv()"
      ],
      "execution_count": 138,
      "outputs": []
    }
  ]
}